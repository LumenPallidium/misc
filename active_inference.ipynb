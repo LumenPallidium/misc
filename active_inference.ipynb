{
 "cells": [
  {
   "cell_type": "code",
   "execution_count": 1,
   "metadata": {},
   "outputs": [],
   "source": [
    "import jax\n",
    "import jax.numpy as jnp\n",
    "#import tqdm\n",
    "key = jax.random.PRNGKey(42)"
   ]
  },
  {
   "cell_type": "markdown",
   "metadata": {},
   "source": [
    "# JAX Tutorial on Active Inference and the Free Energy Principle"
   ]
  },
  {
   "cell_type": "markdown",
   "metadata": {},
   "source": [
    "## Discrete Case"
   ]
  },
  {
   "cell_type": "code",
   "execution_count": 12,
   "metadata": {},
   "outputs": [],
   "source": [
    "n_reward_states = 2\n",
    "n_actions = 4\n",
    "n_states = 4 + n_reward_states"
   ]
  },
  {
   "cell_type": "code",
   "execution_count": 10,
   "metadata": {},
   "outputs": [
    {
     "data": {
      "text/plain": [
       "(Array([ 1, -1,  0,  0], dtype=int32), Array([1, 0], dtype=int32))"
      ]
     },
     "execution_count": 10,
     "metadata": {},
     "output_type": "execute_result"
    }
   ],
   "source": [
    "\n",
    "def set_reward_and_cue(key, left_prob = 0.5):\n",
    "    \"\"\"\n",
    "    The reward and cue for the T-maze. Left prob is the chance that the reward is on the left side.\n",
    "    The reward is negative (i.e. punishment) for the other side.\n",
    "    Returned reward array is 0-padded so that center and bottom of the T-maze have 0 reward, \n",
    "    and so that cue states don't *directly* affect reward.\n",
    "    The cue is a 2D one-hot encoding of the side that the reward is on.\n",
    "    \"\"\"\n",
    "    # reward is 1/-1 depending on prob\n",
    "    reward_left = jax.random.bernoulli(key, left_prob,) * 2 - 1\n",
    "    reward_right = 1 - 2 * reward_left\n",
    "    reward = jnp.array([reward_left, reward_right, 0, 0, 0, 0])\n",
    "    cue = jnp.array([1, 0]) if reward_left == 1 else jnp.array([0, 1])\n",
    "    return reward, cue\n",
    "\n",
    "print(set_reward_and_cue(key))\n"
   ]
  },
  {
   "cell_type": "code",
   "execution_count": 22,
   "metadata": {},
   "outputs": [
    {
     "name": "stdout",
     "output_type": "stream",
     "text": [
      "[[1. 0. 0. 0. 0. 0.]\n",
      " [0. 1. 0. 0. 0. 0.]\n",
      " [0. 0. 1. 0. 0. 0.]\n",
      " [0. 0. 0. 1. 0. 0.]\n",
      " [0. 0. 0. 1. 0. 0.]\n",
      " [0. 0. 0. 0. 0. 0.]]\n",
      "[[1. 0. 0. 0. 0. 0.]\n",
      " [0. 1. 0. 0. 0. 0.]\n",
      " [0. 0. 1. 0. 0. 0.]\n",
      " [0. 0. 0. 1. 0. 0.]\n",
      " [0. 0. 0. 0. 0. 0.]\n",
      " [0. 0. 0. 1. 0. 0.]]\n"
     ]
    }
   ],
   "source": [
    "def get_state_obs_transiton(n_states, n_actions, cue):\n",
    "    \"\"\"\n",
    "    Function that returns the transition matrix from world states to agent observations.\n",
    "    \"\"\"\n",
    "    transition = jnp.eye(n_actions)\n",
    "    # zero pad to 6x6\n",
    "    transition = jnp.pad(transition, ((0, n_states-n_actions),\n",
    "                                      (0, n_states-n_actions)))\n",
    "    # if agent moves to bottom, it sees the cue\n",
    "    transition = transition.at[4:, 3].set(cue)\n",
    "    return transition\n",
    "print(get_state_obs_transiton(n_states, n_actions, jnp.array([1, 0])))\n",
    "print(get_state_obs_transiton(n_states, n_actions, jnp.array([0, 1])))"
   ]
  },
  {
   "cell_type": "code",
   "execution_count": 34,
   "metadata": {},
   "outputs": [
    {
     "name": "stdout",
     "output_type": "stream",
     "text": [
      "[[1. 1. 1. 1. 0. 0.]\n",
      " [0. 0. 0. 0. 0. 0.]\n",
      " [0. 0. 0. 0. 0. 0.]\n",
      " [0. 0. 0. 0. 0. 0.]\n",
      " [0. 0. 0. 0. 1. 0.]\n",
      " [0. 0. 0. 0. 0. 1.]]\n"
     ]
    }
   ],
   "source": [
    "def get_action_state_transition(n_states, n_actions):\n",
    "    \"\"\"\n",
    "    Function that returns the transition matrix from actions to world states.\n",
    "    \"\"\"\n",
    "    base_matrix = jnp.zeros((n_states, n_states))\n",
    "    # reward unchanged by action\n",
    "    base_matrix = base_matrix.at[4:, 4:].set(jnp.eye(2))\n",
    "    # duplicate for number of actions\n",
    "    base_matrix = jnp.stack([base_matrix for _ in range(n_actions)])\n",
    "    for i in range(n_actions):\n",
    "        # ones for the first n_actions columns\n",
    "        mask = jnp.arange(base_matrix.shape[-1]) < n_actions\n",
    "        base_matrix = base_matrix.at[i, i, :].set(mask)\n",
    "    return base_matrix\n",
    "\n",
    "# matrix is fixed so define here\n",
    "action_state_transition = get_action_state_transition(n_states, n_actions)\n",
    "print(action_state_transition[0])"
   ]
  },
  {
   "cell_type": "code",
   "execution_count": 23,
   "metadata": {},
   "outputs": [
    {
     "data": {
      "text/plain": [
       "Array([[1., 0., 0., 0., 0., 0.],\n",
       "       [0., 1., 0., 0., 0., 0.],\n",
       "       [0., 0., 1., 0., 0., 0.],\n",
       "       [0., 0., 0., 1., 0., 0.],\n",
       "       [0., 0., 0., 0., 1., 0.],\n",
       "       [0., 0., 0., 0., 0., 1.],\n",
       "       [1., 1., 1., 1., 1., 1.],\n",
       "       [1., 1., 1., 1., 1., 1.]], dtype=float32)"
      ]
     },
     "execution_count": 23,
     "metadata": {},
     "output_type": "execute_result"
    }
   ],
   "source": [
    "# prior about reward states, uniform\n",
    "d = jnp.ones(n_states) / n_states\n",
    "# 4D location 1-hot with 2D cue one-hot\n",
    "observation_state = jnp.array([0, 0, 1, 0, 0, 0])\n"
   ]
  },
  {
   "cell_type": "code",
   "execution_count": 6,
   "metadata": {},
   "outputs": [
    {
     "data": {
      "text/plain": [
       "Array([[1., 0., 0., 0.],\n",
       "       [0., 1., 0., 0.],\n",
       "       [0., 0., 1., 0.],\n",
       "       [0., 0., 0., 1.],\n",
       "       [0., 0., 0., 0.],\n",
       "       [0., 0., 0., 0.]], dtype=float32)"
      ]
     },
     "execution_count": 6,
     "metadata": {},
     "output_type": "execute_result"
    }
   ],
   "source": [
    "\n"
   ]
  },
  {
   "cell_type": "markdown",
   "metadata": {},
   "source": [
    "## Continuous Case"
   ]
  },
  {
   "cell_type": "markdown",
   "metadata": {},
   "source": [
    "# Deep Active Inference"
   ]
  }
 ],
 "metadata": {
  "kernelspec": {
   "display_name": "jax",
   "language": "python",
   "name": "python3"
  },
  "language_info": {
   "codemirror_mode": {
    "name": "ipython",
    "version": 3
   },
   "file_extension": ".py",
   "mimetype": "text/x-python",
   "name": "python",
   "nbconvert_exporter": "python",
   "pygments_lexer": "ipython3",
   "version": "3.11.9"
  }
 },
 "nbformat": 4,
 "nbformat_minor": 2
}

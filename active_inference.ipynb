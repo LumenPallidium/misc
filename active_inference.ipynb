{
 "cells": [
  {
   "cell_type": "code",
   "execution_count": 1,
   "metadata": {},
   "outputs": [],
   "source": [
    "import jax\n",
    "import jax.numpy as jnp\n",
    "#import tqdm\n",
    "key = jax.random.PRNGKey(42)"
   ]
  },
  {
   "cell_type": "markdown",
   "metadata": {},
   "source": [
    "# JAX Tutorial on Active Inference and the Free Energy Principle"
   ]
  },
  {
   "cell_type": "markdown",
   "metadata": {},
   "source": [
    "## Discrete Case"
   ]
  },
  {
   "cell_type": "code",
   "execution_count": 2,
   "metadata": {},
   "outputs": [],
   "source": [
    "n_reward_states = 2\n",
    "n_actions = 4\n",
    "n_states = 4 + n_reward_states"
   ]
  },
  {
   "cell_type": "code",
   "execution_count": 3,
   "metadata": {},
   "outputs": [
    {
     "name": "stdout",
     "output_type": "stream",
     "text": [
      "(Array([ 1, -1,  0,  0,  0,  0], dtype=int32), Array([1, 0], dtype=int32))\n"
     ]
    }
   ],
   "source": [
    "\n",
    "def set_reward_and_cue(key, left_prob = 0.5):\n",
    "    \"\"\"\n",
    "    The reward and cue for the T-maze. Left prob is the chance that the reward is on the left side.\n",
    "    The reward is negative (i.e. punishment) for the other side.\n",
    "    Returned reward array is 0-padded so that center and bottom of the T-maze have 0 reward, \n",
    "    and so that cue states don't *directly* affect reward.\n",
    "    The cue is a 2D one-hot encoding of the side that the reward is on.\n",
    "    \"\"\"\n",
    "    # reward is 1/-1 depending on prob\n",
    "    reward_left = jax.random.bernoulli(key, left_prob,) * 2 - 1\n",
    "    reward_right = 1 - 2 * reward_left\n",
    "    reward = jnp.array([reward_left, reward_right, 0, 0, 0, 0])\n",
    "    cue = jnp.array([1, 0]) if reward_left == 1 else jnp.array([0, 1])\n",
    "    return reward, cue\n",
    "\n",
    "print(set_reward_and_cue(key))\n"
   ]
  },
  {
   "cell_type": "code",
   "execution_count": 4,
   "metadata": {},
   "outputs": [
    {
     "name": "stdout",
     "output_type": "stream",
     "text": [
      "[[1. 0. 0. 0. 0. 0.]\n",
      " [0. 1. 0. 0. 0. 0.]\n",
      " [0. 0. 1. 0. 0. 0.]\n",
      " [0. 0. 0. 1. 0. 0.]\n",
      " [0. 0. 0. 1. 0. 0.]\n",
      " [0. 0. 0. 0. 0. 0.]]\n",
      "[[1. 0. 0. 0. 0. 0.]\n",
      " [0. 1. 0. 0. 0. 0.]\n",
      " [0. 0. 1. 0. 0. 0.]\n",
      " [0. 0. 0. 1. 0. 0.]\n",
      " [0. 0. 0. 0. 0. 0.]\n",
      " [0. 0. 0. 1. 0. 0.]]\n"
     ]
    }
   ],
   "source": [
    "def get_state_obs_transiton(n_states, n_actions, cue):\n",
    "    \"\"\"\n",
    "    Function that returns the transition matrix from world states to agent observations.\n",
    "    \"\"\"\n",
    "    transition = jnp.eye(n_actions)\n",
    "    # zero pad to 6x6\n",
    "    transition = jnp.pad(transition, ((0, n_states-n_actions),\n",
    "                                      (0, n_states-n_actions)))\n",
    "    # if agent moves to bottom, it sees the cue\n",
    "    transition = transition.at[4:, 3].set(cue)\n",
    "    return transition\n",
    "print(get_state_obs_transiton(n_states, n_actions, jnp.array([1, 0])))\n",
    "print(get_state_obs_transiton(n_states, n_actions, jnp.array([0, 1])))"
   ]
  },
  {
   "cell_type": "code",
   "execution_count": 5,
   "metadata": {},
   "outputs": [
    {
     "name": "stdout",
     "output_type": "stream",
     "text": [
      "[[1. 1. 1. 1. 0. 0.]\n",
      " [0. 0. 0. 0. 0. 0.]\n",
      " [0. 0. 0. 0. 0. 0.]\n",
      " [0. 0. 0. 0. 0. 0.]\n",
      " [0. 0. 0. 0. 1. 0.]\n",
      " [0. 0. 0. 0. 0. 1.]]\n"
     ]
    }
   ],
   "source": [
    "def get_action_state_transition(n_states, n_actions):\n",
    "    \"\"\"\n",
    "    Function that returns the transition matrix from actions to world states.\n",
    "    \"\"\"\n",
    "    base_matrix = jnp.zeros((n_states, n_states))\n",
    "    # reward unchanged by action\n",
    "    base_matrix = base_matrix.at[4:, 4:].set(jnp.eye(2))\n",
    "    # duplicate for number of actions\n",
    "    base_matrix = jnp.stack([base_matrix for _ in range(n_actions)])\n",
    "    for i in range(n_actions):\n",
    "        # ones for the first n_actions columns\n",
    "        mask = jnp.arange(base_matrix.shape[-1]) < n_actions\n",
    "        base_matrix = base_matrix.at[i, i, :].set(mask)\n",
    "    return base_matrix\n",
    "\n",
    "# matrix is fixed so define here\n",
    "action_state_transition = get_action_state_transition(n_states, n_actions)\n",
    "print(action_state_transition[0])"
   ]
  },
  {
   "cell_type": "code",
   "execution_count": 6,
   "metadata": {},
   "outputs": [],
   "source": [
    "# prior about reward states, uniform\n",
    "d = jnp.ones(n_states) / n_states\n",
    "# 4D location 1-hot with 2D cue one-hot\n",
    "observation_state = jnp.array([0, 0, 1, 0, 0, 0])\n"
   ]
  },
  {
   "cell_type": "markdown",
   "metadata": {},
   "source": [
    "Our agents will be forming models of the environment they are in. Essentially, they will try to build models of the state transition and observation transition matrices from above. \n",
    "#TODO : write on conjugate priors, Categorical distributions and dirchlet"
   ]
  },
  {
   "cell_type": "code",
   "execution_count": 7,
   "metadata": {},
   "outputs": [],
   "source": [
    "class Agent:\n",
    "    def __init__(self,\n",
    "                 n_states,\n",
    "                 n_actions,\n",
    "                 action_state_transition):\n",
    "        self.n_states = n_states\n",
    "        self.n_actions = n_actions\n",
    "        self.n_reward_states = n_reward_states\n",
    "        self.action_state_transition = action_state_transition\n",
    "\n",
    "        # prior on the state of the world\n",
    "        self.state_prior = None\n",
    "        self.prev_state_prior = None\n",
    "        self.reset_state_prior()\n",
    "\n",
    "        # concentration for action-state transition\n",
    "        self.c_action_state = jnp.ones_like(action_state_transition)\n",
    "        # concentration for state-observation transition\n",
    "        self.c_state_obs = jnp.ones_like(get_state_obs_transiton(n_states, n_actions, jnp.array([1, 0])))\n",
    "        # use concentration to generate priors\n",
    "        self.action_transition_prior = jax.random.dirichlet(key, self.c_action_state)\n",
    "        self.obs_transition_prior = jax.random.dirichlet(key, self.c_state_obs)\n",
    "\n",
    "    def reset_state_prior(self):\n",
    "        \"\"\"\n",
    "        Reset the state prior (assumed to be known as center of T-maze)\n",
    "        \"\"\"\n",
    "        self.state_prior = jnp.array([0, 0, 1, 0, 0, 0])\n",
    "\n",
    "    def update_state_belief(self, action_idx, next_observation):\n",
    "        state_belief = self.state_prior.copy()\n",
    "        self.prev_state_prior = state_belief.copy()\n",
    "        action_transition = self.action_transition_prior[action_idx]\n",
    "\n",
    "        # (prior) state belief given an action\n",
    "        state_belief = action_transition @ state_belief\n",
    "        # expected observation given model of state->observation transition\n",
    "        likelihood = jnp.dot(next_observation, self.obs_transition_prior) #TODO : this might use self.obs_transition_prior @ state_belief\n",
    "        # update state belief\n",
    "        state_belief = jnp.log(likelihood) + jnp.log(state_belief)\n",
    "        state_belief = jax.nn.softmax(state_belief)\n",
    "\n",
    "        self.state_prior = state_belief\n",
    "        return state_belief\n",
    "    \n",
    "    def update_concentration(self, action_idx, observation):\n",
    "        \"\"\"\n",
    "        Update the concentration parameters for the transition models.\n",
    "        \"\"\"\n",
    "        state_obs_update = observation[:, None] @ self.state_prior[None, :]\n",
    "        self.c_state_obs += state_obs_update\n",
    "\n",
    "        # state prior outer product\n",
    "        state_prior_outer = self.state_prior[:, None] @ self.prev_state_prior[None, :]\n"
   ]
  },
  {
   "cell_type": "code",
   "execution_count": 12,
   "metadata": {},
   "outputs": [
    {
     "data": {
      "text/plain": [
       "Array([6., 6., 6., 6., 6., 6.], dtype=float32)"
      ]
     },
     "execution_count": 12,
     "metadata": {},
     "output_type": "execute_result"
    }
   ],
   "source": [
    "tmp = jnp.ones(n_states)\n",
    "tmp2 = jnp.ones((n_states, n_states))\n",
    "\n",
    "jnp.dot(tmp, tmp2)"
   ]
  },
  {
   "cell_type": "code",
   "execution_count": 11,
   "metadata": {},
   "outputs": [
    {
     "data": {
      "text/plain": [
       "Array([[1.0000001 , 1.        , 1.        , 0.99999994, 0.99999994,\n",
       "        1.        ],\n",
       "       [1.        , 1.0000001 , 1.        , 0.99999994, 1.        ,\n",
       "        1.        ],\n",
       "       [0.99999994, 1.0000001 , 1.        , 1.        , 1.        ,\n",
       "        0.9999999 ],\n",
       "       [1.0000001 , 1.        , 1.        , 1.        , 1.        ,\n",
       "        1.0000001 ]], dtype=float32)"
      ]
     },
     "execution_count": 11,
     "metadata": {},
     "output_type": "execute_result"
    }
   ],
   "source": [
    "action_state_prior.sum(axis=-1)"
   ]
  },
  {
   "cell_type": "code",
   "execution_count": null,
   "metadata": {},
   "outputs": [],
   "source": []
  },
  {
   "cell_type": "markdown",
   "metadata": {},
   "source": [
    "## Continuous Case"
   ]
  },
  {
   "cell_type": "markdown",
   "metadata": {},
   "source": [
    "# Deep Active Inference"
   ]
  }
 ],
 "metadata": {
  "kernelspec": {
   "display_name": "jax",
   "language": "python",
   "name": "python3"
  },
  "language_info": {
   "codemirror_mode": {
    "name": "ipython",
    "version": 3
   },
   "file_extension": ".py",
   "mimetype": "text/x-python",
   "name": "python",
   "nbconvert_exporter": "python",
   "pygments_lexer": "ipython3",
   "version": "3.11.9"
  }
 },
 "nbformat": 4,
 "nbformat_minor": 2
}
